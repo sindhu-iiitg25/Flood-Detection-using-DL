{
 "cells": [
  {
   "cell_type": "markdown",
   "id": "7c4f7904",
   "metadata": {},
   "source": [
    "# Calculate the jaccard score for every prediction"
   ]
  },
  {
   "cell_type": "code",
   "execution_count": 1,
   "id": "d33e1d84",
   "metadata": {},
   "outputs": [],
   "source": [
    "from pathlib import Path\n",
    "from loguru import logger\n",
    "import numpy as np\n",
    "from tifffile import imread\n",
    "import typer\n",
    "from tqdm import tqdm\n",
    "\n",
    "NA_VALUE = 255"
   ]
  },
  {
   "cell_type": "code",
   "execution_count": 2,
   "id": "bc7d17ee",
   "metadata": {},
   "outputs": [],
   "source": [
    "def iterate_through_mask_pairs(submission_dir: Path, actual_dir: Path):\n",
    "    \"\"\"\n",
    "    For each tif in the actual directory, find the corresponding prediction tif, read\n",
    "    them both in, and yield the (pred, actual) tuple\n",
    "    \"\"\"\n",
    "    for predicted_path in submission_dir.glob(\"*.tif\"):\n",
    "        filename = predicted_path.name\n",
    "        label_path = actual_dir / filename\n",
    "        assert label_path.exists(), f\"Could not find expected file: {filename}\"\n",
    "        actual = imread(label_path)\n",
    "        pred = imread(predicted_path)\n",
    "        yield pred, actual"
   ]
  },
  {
   "cell_type": "code",
   "execution_count": 3,
   "id": "6183bdb9",
   "metadata": {},
   "outputs": [],
   "source": [
    "def intersection_over_union(df, total=None):\n",
    "    \"\"\"Calculate the actual metric\"\"\"\n",
    "    intersection = 0\n",
    "    union = 0\n",
    "    for pred, actual in tqdm(array_pairs, total=total):\n",
    "        invalid_mask = actual == NA_VALUE\n",
    "        actual = np.ma.masked_array(actual, invalid_mask)\n",
    "        pred = np.ma.masked_array(pred, invalid_mask)\n",
    "        intersection += np.logical_and(actual, pred).sum()\n",
    "        union += np.logical_or(actual, pred).sum()\n",
    "    if union < 1:\n",
    "        raise ValueError(\"At least one image must be in the actual data set\")\n",
    "    return intersection / union"
   ]
  },
  {
   "cell_type": "code",
   "execution_count": 4,
   "id": "af3cb4b0",
   "metadata": {},
   "outputs": [
    {
     "name": "stderr",
     "output_type": "stream",
     "text": [
      "2021-10-06 10:44:40.424 | INFO     | __main__:<module>:6 - calculating score for 30 image pairs ...\n",
      "100%|██████████| 30/30 [00:00<00:00, 44.64it/s]\n",
      "2021-10-06 10:44:41.145 | SUCCESS  | __main__:<module>:8 - overall score: 0.6553508561416426\n"
     ]
    }
   ],
   "source": [
    "submission_dir = Path.cwd().parent / \"output_data\"\n",
    "actual_dir = Path.cwd().parent / \"data\" / \"raw\" / \"train_features\" / \"train_labels\"\n",
    "\n",
    "n_expected = len(list(submission_dir.glob(\"*.tif\")))\n",
    "array_pairs = iterate_through_mask_pairs(submission_dir, actual_dir)\n",
    "logger.info(f\"calculating score for {n_expected} image pairs ...\")\n",
    "score = intersection_over_union(array_pairs, total=n_expected)\n",
    "logger.success(f\"overall score: {score}\")"
   ]
  },
  {
   "cell_type": "code",
   "execution_count": null,
   "id": "88be4d25",
   "metadata": {},
   "outputs": [],
   "source": []
  }
 ],
 "metadata": {
  "kernelspec": {
   "display_name": "Python 3",
   "language": "python",
   "name": "python3"
  },
  "language_info": {
   "codemirror_mode": {
    "name": "ipython",
    "version": 3
   },
   "file_extension": ".py",
   "mimetype": "text/x-python",
   "name": "python",
   "nbconvert_exporter": "python",
   "pygments_lexer": "ipython3",
   "version": "3.6.13"
  }
 },
 "nbformat": 4,
 "nbformat_minor": 5
}
